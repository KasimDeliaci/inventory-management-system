{
 "cells": [
  {
   "cell_type": "code",
   "execution_count": 1,
   "id": "cea4d112-6071-4daf-83a6-fca5a38d3e24",
   "metadata": {},
   "outputs": [],
   "source": [
    "import pandas as pd\n",
    "import numpy as np\n",
    "import matplotlib.pyplot as plt\n",
    "from xgboost import XGBRegressor\n",
    "from sklearn.model_selection import train_test_split"
   ]
  },
  {
   "cell_type": "code",
   "execution_count": null,
   "id": "d87c1cc4-c36a-4271-98a2-b10be0b817c1",
   "metadata": {},
   "outputs": [],
   "source": [
    "#read the related data \n",
    "df= pd.read_csv(\"xxxxx.csv\",parse_dates = [\"date\"])\n",
    "df.head()"
   ]
  },
  {
   "cell_type": "code",
   "execution_count": null,
   "id": "92e3d41a-c4c2-4a08-9d5a-57ba9ff560d6",
   "metadata": {},
   "outputs": [],
   "source": [
    "#Fill NA values with 0 \n",
    "df = df.fillna(0)"
   ]
  },
  {
   "cell_type": "code",
   "execution_count": null,
   "id": "d3da54f7-627c-418d-9d7e-203a3574893f",
   "metadata": {},
   "outputs": [],
   "source": [
    "#set date column as datetime\n",
    "df[\"date\"] = pd.to_datetime(df[\"date\"])\n",
    "df.info()"
   ]
  },
  {
   "cell_type": "code",
   "execution_count": null,
   "id": "138fc8fa-2838-462a-a383-d9ae1655a1e3",
   "metadata": {},
   "outputs": [],
   "source": [
    "#convert all possible dtypes into float or integer if any other exists\n",
    "df[\"xxxxx\"] = df[\"xxxxx\"].astype(int)\n",
    "df.info()"
   ]
  },
  {
   "cell_type": "code",
   "execution_count": null,
   "id": "ef71bc58-ace3-4992-8a76-ce215da8f9ca",
   "metadata": {},
   "outputs": [],
   "source": [
    "#drop unrelated columns or columns include dtype object\n",
    "df.drop(columns=[\"xxxxx\"], inplace = True, axis=1)"
   ]
  },
  {
   "cell_type": "code",
   "execution_count": null,
   "id": "e8d0ad92-d354-4676-9cbd-e14e2b8a1efa",
   "metadata": {},
   "outputs": [],
   "source": [
    "#define lags to identify past observations to use for training the model\n",
    "#target column indicates the Y variable for the model\n",
    "df[\"lag_1\"] = df[\"target\"].shift(1)\n",
    "df[\"lag_7\"] = df[\"target\"].shift(7)\n",
    "df[\"rolling_mean_7\"] = df[\"target\"].shift(1).rolling(7).mean()"
   ]
  },
  {
   "cell_type": "code",
   "execution_count": null,
   "id": "202eb243-d3de-4b0b-9e54-f11c892c90b5",
   "metadata": {},
   "outputs": [],
   "source": [
    "#drop NaN values occured from defining lag phase\n",
    " df.dropna()"
   ]
  },
  {
   "cell_type": "code",
   "execution_count": null,
   "id": "9fb9617f-a4cc-4c14-a4d9-47f6e10a4f79",
   "metadata": {},
   "outputs": [],
   "source": [
    "#Define forecast horizon and targets for the forecasting model\n",
    "#do not forget that the target indicates Y variable\n",
    "horizon = 7\n",
    "targets = []\n",
    "for i in range(1, horizon + 1):\n",
    "    df[f\"target_t+{i}\"] = df[\"target\"].shift(-i)\n",
    "    targets.append(f\"target_t+{i}\")\n",
    "\n",
    "df = df.dropna()"
   ]
  },
  {
   "cell_type": "code",
   "execution_count": null,
   "id": "c169126e-8096-4b14-9d20-8df5d6868778",
   "metadata": {},
   "outputs": [],
   "source": [
    "#define x and y variables\n",
    "#while defining x, use related or unrelated columns\n",
    "x = df.drop(columns=[\"xxxx\"] + targets)\n",
    "y = df[targets]"
   ]
  },
  {
   "cell_type": "code",
   "execution_count": null,
   "id": "18f5d17c-b5e6-4236-939c-49094d05fe92",
   "metadata": {},
   "outputs": [],
   "source": [
    "#set train/test split\n",
    "train_mask = df[\"date\"] < (df[\"date\"].max() - pd.Timedelta(days=30))\n",
    "x_train, x_test = x[train_mask], x[~train_mask]\n",
    "y_train, y_test = y[train_mask], y[~train_mask]"
   ]
  },
  {
   "cell_type": "code",
   "execution_count": null,
   "id": "45c22307-639f-4421-ac97-02c17e7db4fa",
   "metadata": {},
   "outputs": [],
   "source": [
    "#construct the XGBoost model\n",
    "model_xgb = XGBRegressor(\n",
    "    n_estimators=500,\n",
    "    learning_rate=0.03,\n",
    "    max_depth=6,\n",
    "    subsample=0.8,\n",
    "    colsample_bytree=0.8,\n",
    "    random_state=42\n",
    ")\n",
    "\n",
    "models = {}\n",
    "for i, target in enumerate(targets, start=1):\n",
    "    m = model_xgb.fit(x_train, y_train[target])\n",
    "    models[target] = m"
   ]
  },
  {
   "cell_type": "code",
   "execution_count": null,
   "id": "9e31cc4d-c109-4115-990f-cf68bcd56e03",
   "metadata": {},
   "outputs": [],
   "source": [
    "#make predictions\n",
    "preds = {}\n",
    "for target, m in models.items():\n",
    "    preds[target] = m.predict(x_test)\n",
    "\n",
    "preds = pd.DataFrame(preds, index=x_test.index)"
   ]
  },
  {
   "cell_type": "code",
   "execution_count": null,
   "id": "811481b8-4689-49f7-b197-5c42819b9b32",
   "metadata": {},
   "outputs": [],
   "source": [
    "# Calculate RMSE per horizon step\n",
    "for target in targets:\n",
    "    rmse = np.sqrt(mean_squared_error(y_test[target], preds[target]))\n",
    "    print(f\"RMSE for {target}: {rmse:.2f}\")"
   ]
  },
  {
   "cell_type": "code",
   "execution_count": null,
   "id": "9fa7649c-9c78-4c47-a03c-cae5c5ed2ad9",
   "metadata": {},
   "outputs": [],
   "source": [
    "#print results,examine actual and predicted values\n",
    "results = pd.concat([df.loc[x_test.index, [\"date\", \"productId\"]], y_test, preds], axis=1)\n",
    "print(results.head(14))"
   ]
  },
  {
   "cell_type": "code",
   "execution_count": null,
   "id": "180b07a2-3736-4776-a7ee-e10ab14934a4",
   "metadata": {},
   "outputs": [],
   "source": [
    "#visualize the predictions\n",
    "#7 days forecast\n",
    "horizon = preds.columns  # ['target_t+1', ..., 'target_t+7']\n",
    "\n",
    "for i, col in enumerate(horizon, start=1):\n",
    "    plt.figure(figsize=(12, 6))\n",
    "    plt.plot(y_test.index, y_test[col], label=f'Actual {col}', linestyle='--')\n",
    "    plt.plot(preds.index, preds[col], label=f'Predicted {col}', alpha=0.7)\n",
    "\n",
    "    plt.xlabel('Date Index')\n",
    "    plt.ylabel('Demand')\n",
    "    plt.title(f'XGBoost Forecast ({col})')\n",
    "    plt.legend()\n",
    "    plt.show()"
   ]
  }
 ],
 "metadata": {
  "kernelspec": {
   "display_name": "Python [conda env:DeepLearning1]",
   "language": "python",
   "name": "conda-env-DeepLearning1-py"
  },
  "language_info": {
   "codemirror_mode": {
    "name": "ipython",
    "version": 3
   },
   "file_extension": ".py",
   "mimetype": "text/x-python",
   "name": "python",
   "nbconvert_exporter": "python",
   "pygments_lexer": "ipython3",
   "version": "3.12.11"
  }
 },
 "nbformat": 4,
 "nbformat_minor": 5
}
