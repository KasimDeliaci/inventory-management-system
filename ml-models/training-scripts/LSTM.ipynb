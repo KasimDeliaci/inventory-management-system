{
 "cells": [
  {
   "cell_type": "code",
   "execution_count": null,
   "id": "90844c64-a5d5-4912-8d2b-ee0d280fd224",
   "metadata": {},
   "outputs": [],
   "source": [
    "import pandas as pd\n",
    "import numpy as np\n",
    "import matplotlib.pyplot as plt\n",
    "from sklearn.preprocessing import MinMaxScaler\n",
    "from sklearn.model_selection import train_test_split\n",
    "from sklearn.metrics import mean_squared_error\n",
    "from tensorflow.keras.models import Sequential\n",
    "from tensorflow.keras.layers import LSTM, Dense, Dropout"
   ]
  },
  {
   "cell_type": "code",
   "execution_count": null,
   "id": "6cc8f7d9-f444-43d5-bcbc-eb3a7da805ef",
   "metadata": {},
   "outputs": [],
   "source": [
    "#read the related data \n",
    "df= pd.read_csv(\"xxxxx.csv\",parse_dates = [\"date\"])\n",
    "df.head()"
   ]
  },
  {
   "cell_type": "code",
   "execution_count": null,
   "id": "a00edea5-8404-44ec-b248-616f80c432a6",
   "metadata": {},
   "outputs": [],
   "source": [
    "#Fill NA values with 0 \n",
    "df = df.fillna(0)"
   ]
  },
  {
   "cell_type": "code",
   "execution_count": null,
   "id": "4c92b9b5-9f54-423b-b4a1-4ffc891873c6",
   "metadata": {},
   "outputs": [],
   "source": [
    "#set date column as datetime\n",
    "df[\"date\"] = pd.to_datetime(df[\"date\"])\n",
    "df.info()"
   ]
  },
  {
   "cell_type": "code",
   "execution_count": null,
   "id": "868c3b28-63c7-41a7-887b-94ae78c74be2",
   "metadata": {},
   "outputs": [],
   "source": [
    "#convert all possible dtypes into float or integer if any other exists\n",
    "df[\"xxxxx\"] = df[\"xxxxx\"].astype(int)\n",
    "df.info()"
   ]
  },
  {
   "cell_type": "code",
   "execution_count": null,
   "id": "efa0a3e8-e501-4d94-9b31-28f0f2ff2b4d",
   "metadata": {},
   "outputs": [],
   "source": [
    "#drop unrelated columns or columns include dtype object\n",
    "df.drop(columns=[\"xxxx\", \"xxxx\", \"xxxx\"], inplace = True, axis=1)"
   ]
  },
  {
   "cell_type": "code",
   "execution_count": null,
   "id": "0727f057-1f5e-4341-9241-bb6abaa219da",
   "metadata": {},
   "outputs": [],
   "source": [
    "#define one product df if there exists more than one product\n",
    "product_id = 0\n",
    "product_df = df[df[\"product_id\"] == product_id].set_index(\"date\")"
   ]
  },
  {
   "cell_type": "code",
   "execution_count": null,
   "id": "2806ce1a-22b0-41b1-b427-919a0b107740",
   "metadata": {},
   "outputs": [],
   "source": [
    "#Define targets and features\n",
    "target = \"demand\"\n",
    "features = [\"xxxx\", \"xxxx\", \"xxxx\"]"
   ]
  },
  {
   "cell_type": "code",
   "execution_count": null,
   "id": "57fd4084-aa42-4b48-a89e-4fcfffeb0dd5",
   "metadata": {},
   "outputs": [],
   "source": [
    "#Scaling\n",
    "scaler_X = MinMaxScaler()\n",
    "scaler_y = MinMaxScaler()\n",
    "\n",
    "X_scaled = scaler_X.fit_transform(product_df[features])\n",
    "y_scaled = scaler_y.fit_transform(product_df[[target]])"
   ]
  },
  {
   "cell_type": "code",
   "execution_count": null,
   "id": "eafdcad9-130a-4580-b1e4-77d7a6bb26b2",
   "metadata": {},
   "outputs": [],
   "source": [
    "#def create_sequences(X, y, seq_length=14, horizon=7):\n",
    "    X_seq, y_seq = [], []\n",
    "    for i in range(len(X) - seq_length - horizon + 1):\n",
    "        X_seq.append(X[i:i+seq_length])\n",
    "        y_seq.append(y[i+seq_length:i+seq_length+horizon])\n",
    "    return np.array(X_seq), np.array(y_seq)\n",
    "\n",
    "SEQ_LENGTH = 14  # look-back 14 days\n",
    "HORIZON = 7      # predict next 7 days\n",
    "\n",
    "X_seq, y_seq = create_sequences(X_scaled, y_scaled, SEQ_LENGTH, HORIZON)"
   ]
  },
  {
   "cell_type": "code",
   "execution_count": null,
   "id": "ece064fb-eb84-4ad7-b039-86d6f259af47",
   "metadata": {},
   "outputs": [],
   "source": [
    "# TRAIN/TEST SPLIT\n",
    "split = int(len(X_seq) * 0.8)\n",
    "X_train, X_test = X_seq[:split], X_seq[split:]\n",
    "y_train, y_test = y_seq[:split], y_seq[split:]"
   ]
  },
  {
   "cell_type": "code",
   "execution_count": null,
   "id": "1be390c6-9806-4f3a-b1d0-649cf1673763",
   "metadata": {},
   "outputs": [],
   "source": [
    "#construct the LSTM model\n",
    "model_lstm = Sequential()\n",
    "model_lstm.add(LSTM(64, activation='relu', input_shape=(SEQ_LENGTH, X_train.shape[2])))\n",
    "model_lstm.add(Dense(HORIZON))\n",
    "model_lstm.compile(optimizer='adam', loss='mse')"
   ]
  },
  {
   "cell_type": "code",
   "execution_count": null,
   "id": "9f82204e-12a4-46f8-8443-409d7d37d807",
   "metadata": {},
   "outputs": [],
   "source": [
    "# TRAIN MODEL\n",
    "history = model_lstm.fit(X_train, y_train, epochs=50, batch_size=16,\n",
    "                    validation_split=0.2, verbose=1)"
   ]
  },
  {
   "cell_type": "code",
   "execution_count": null,
   "id": "14892b10-2917-415c-863a-67035f7405ab",
   "metadata": {},
   "outputs": [],
   "source": [
    "#prediction\n",
    "y_pred_scaled = model.predict(X_test)\n",
    "y_pred = scaler_y.inverse_transform(y_pred_scaled.reshape(-1, HORIZON))\n",
    "\n",
    "y_test_actual = scaler_y.inverse_transform(y_test.reshape(-1, HORIZON))"
   ]
  },
  {
   "cell_type": "code",
   "execution_count": null,
   "id": "5f0e07e3-24f7-44ca-8cc8-61526d380a27",
   "metadata": {},
   "outputs": [],
   "source": [
    "# Compute RMSE per horizon step\n",
    "for i in range(HORIZON):\n",
    "    rmse = np.sqrt(mean_squared_error(y_test_actual[:, i], y_pred[:, i]))\n",
    "    df_compare = pd.DataFrame({\n",
    "        \"Actual\": y_test_actual[:, i],\n",
    "        \"Predicted\": y_pred[:, i]\n",
    "    })\n",
    "    print(f\"\\nHorizon t+{i+1} | RMSE: {rmse:.2f}\")\n",
    "    print(df_compare.head(10))"
   ]
  },
  {
   "cell_type": "code",
   "execution_count": null,
   "id": "f8820dad-0410-4166-a601-753141ac7311",
   "metadata": {},
   "outputs": [],
   "source": [
    "#visualize the results\n",
    "plt.figure(figsize=(14,6))\n",
    "plt.plot(y_test_actual[:,0], label='Actual t+1')\n",
    "plt.plot(y_pred[:,0], label='Predicted t+1')\n",
    "plt.xlabel('Samples')\n",
    "plt.ylabel('Demand')\n",
    "plt.title('LSTM Forecast - Day 1 of 7-step horizon')\n",
    "plt.legend()\n",
    "plt.show()"
   ]
  }
 ],
 "metadata": {
  "kernelspec": {
   "display_name": "Python [conda env:DeepLearning1]",
   "language": "python",
   "name": "conda-env-DeepLearning1-py"
  },
  "language_info": {
   "codemirror_mode": {
    "name": "ipython",
    "version": 3
   },
   "file_extension": ".py",
   "mimetype": "text/x-python",
   "name": "python",
   "nbconvert_exporter": "python",
   "pygments_lexer": "ipython3",
   "version": "3.12.11"
  }
 },
 "nbformat": 4,
 "nbformat_minor": 5
}
