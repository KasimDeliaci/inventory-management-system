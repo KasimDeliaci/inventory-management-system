{
 "cells": [
  {
   "cell_type": "code",
   "execution_count": null,
   "id": "e4070c28-8a49-4bd5-a16b-295573862b17",
   "metadata": {},
   "outputs": [],
   "source": [
    "import pandas as pd\n",
    "import numpy as np\n",
    "import matplotlib.pyplot as plt\n",
    "from sklearn.model_selection import train_test_split\n",
    "from sklearn.metrics import mean_squared_error\n",
    "from statsmodels.tsa.statespace.sarimax import SARIMAX"
   ]
  },
  {
   "cell_type": "code",
   "execution_count": null,
   "id": "0d888b40-81b8-48e9-88d2-4af060e7ac7e",
   "metadata": {},
   "outputs": [],
   "source": [
    "#read the related data \n",
    "df= pd.read_csv(\"xxxxx.csv\",parse_dates = [\"date\"])\n",
    "df.head()"
   ]
  },
  {
   "cell_type": "code",
   "execution_count": null,
   "id": "a9949a9f-a037-4257-8c75-56a38b692b4a",
   "metadata": {},
   "outputs": [],
   "source": [
    "#Fill NA values with 0 \n",
    "df = df.fillna(0)"
   ]
  },
  {
   "cell_type": "code",
   "execution_count": null,
   "id": "a31cfffe-6099-4fe4-8d1c-351efdde5720",
   "metadata": {},
   "outputs": [],
   "source": [
    "#set date column as datetime\n",
    "df[\"date\"] = pd.to_datetime(df[\"date\"])\n",
    "df.info()"
   ]
  },
  {
   "cell_type": "code",
   "execution_count": null,
   "id": "cabac60b-1b20-432f-bf58-d496e99869c2",
   "metadata": {},
   "outputs": [],
   "source": [
    "#convert all possible dtypes into float or integer if any other exists\n",
    "df[\"xxxxx\"] = df[\"xxxxx\"].astype(int)\n",
    "df.info()"
   ]
  },
  {
   "cell_type": "code",
   "execution_count": null,
   "id": "1667b2c1-afa0-45b4-97fc-aedb97c5adf6",
   "metadata": {},
   "outputs": [],
   "source": [
    "#drop unrelated columns or columns include dtype object\n",
    "df.drop(columns=[\"xxxxx\",\"xxxxx\",\"xxxxx\"], inplace = True, axis=1)"
   ]
  },
  {
   "cell_type": "code",
   "execution_count": null,
   "id": "9cfc28af-ce72-409b-aa64-80203d9f747b",
   "metadata": {},
   "outputs": [],
   "source": [
    "#define one product df if there exists more than one product\n",
    "product = 'productname'\n",
    "df_prod = df[df['product_name'] == product].sort_values('date')\n",
    "\n",
    "#make date the index\n",
    "df_prod = df_prod.set_index('date')  # make date the index"
   ]
  },
  {
   "cell_type": "code",
   "execution_count": null,
   "id": "7017f347-6aaf-4198-a2ff-c45ee56976e9",
   "metadata": {},
   "outputs": [],
   "source": [
    "#define target and exogenous factors that affect the Y variable\n",
    "#use this if your df consists of only one product\n",
    "target = df[\"target\"]\n",
    "exog_features = [\"xxxx\", \"xxxx\", \"xxxx\"]\n",
    "exog = df[exog_features]\n",
    "\n",
    "#use this if you convert your df into one product df with code before\n",
    "endog = df_prod['target']\n",
    "exog_cols = [\"xxxx\", \"xxxx\", \"xxxx\"]\n",
    "exog = df_prod[exog_cols]"
   ]
  },
  {
   "cell_type": "code",
   "execution_count": null,
   "id": "088dcf0d-85ec-4128-aa73-0fc08d942c57",
   "metadata": {},
   "outputs": [],
   "source": [
    "# Split train/test (last 30 days as test)\n",
    "#Use only related code according to your df\n",
    "\n",
    "#for one product df \n",
    "train_target = target[:-30]\n",
    "test_target = target[-30:]\n",
    "train_exog = exog[:-30]\n",
    "test_exog = exog[-30:]\n",
    "\n",
    "#for converted one product df\n",
    "endog = df_prod['target']\n",
    "exog = df_prod[exog_cols]\n",
    "\n",
    "train_endog, test_endog = endog[:-30], endog[-30:]\n",
    "train_exog, test_exog = exog[:-30], exog[-30:]"
   ]
  },
  {
   "cell_type": "code",
   "execution_count": null,
   "id": "0fcb7cc3-9fbf-4ac6-9c57-d8f8a45fe592",
   "metadata": {},
   "outputs": [],
   "source": [
    "#Construct SARIMAX model \n",
    "#Use only related code according to your df\n",
    "\n",
    "#for one product df\n",
    "model_sarimax = SARIMAX(\n",
    "    train_target,\n",
    "    exog=train_exog,\n",
    "    order=(1,1,1),\n",
    "    seasonal_order=(1,1,1,7),\n",
    "    enforce_stationarity=False,\n",
    "    enforce_invertibility=False\n",
    ")\n",
    "\n",
    "model_fit = model_sarimax.fit(disp=False)\n",
    "print(model_fit.summary())\n",
    "\n",
    "#for converted one product df\n",
    "model_sarimax = SARIMAX(train_endog,\n",
    "                exog=train_exog,\n",
    "                order=(1,1,1),\n",
    "                seasonal_order=(1,1,1,7),\n",
    "                enforce_stationarity=False,\n",
    "                enforce_invertibility=False)\n",
    "\n",
    "sarimax_res = model_sarimax.fit(disp=False)"
   ]
  },
  {
   "cell_type": "code",
   "execution_count": null,
   "id": "bc4e5d4f-2aaf-4511-9a80-6a6cdc45c34a",
   "metadata": {},
   "outputs": [],
   "source": [
    "#Forecast\n",
    "#Use only related code according to your df\n",
    "\n",
    "#for one product df\n",
    "forecast = model_fit.get_forecast(steps=30, exog=test_exog)\n",
    "forecast_mean = forecast.predicted_mean\n",
    "forecast_ci = forecast.conf_int()\n",
    "\n",
    "#for converted one product df\n",
    "# Forecast 7 days recursively\n",
    "horizon = 7\n",
    "preds = []\n",
    "history_endog = train_endog.copy()\n",
    "history_exog = train_exog.copy()\n",
    "\n",
    "preds = sarimax_res.get_forecast(steps=len(test_endog), exog=test_exog)\n",
    "y_pred = preds.predicted_mean  # now y_pred.shape == test_endog.shape"
   ]
  },
  {
   "cell_type": "code",
   "execution_count": null,
   "id": "b7735122-5a5f-4b56-88e1-8417283453f1",
   "metadata": {},
   "outputs": [],
   "source": [
    "#Calculate RMSE value\n",
    "#Use only related code according to your df\n",
    "\n",
    "#for one product df\n",
    "for target in targets:\n",
    "    rmse = np.sqrt(mean_squared_error(test_target, forecast_mean))\n",
    "    print(f\"Test RMSE: {rmse:.2f}\")\n",
    "\n",
    "#for converted one product df\n",
    "rmse = np.sqrt(mean_squared_error(test_endog, y_pred))\n",
    "print(f\"SARIMAX RMSE: {rmse:.2f}\")"
   ]
  },
  {
   "cell_type": "code",
   "execution_count": null,
   "id": "293b5e2b-71f3-4442-aefe-bbdeed171520",
   "metadata": {},
   "outputs": [],
   "source": [
    "#compare actual and predicted values\n",
    "\n",
    "#for one product df\n",
    "results = pd.DataFrame({\n",
    "    \"actual\": test_target,\n",
    "    \"forecast\": forecast_mean\n",
    "})\n",
    "print(results.head(15))\n",
    "\n",
    "#for converted one product df\n",
    "for i in range(horizon):\n",
    "    rmse = np.sqrt(mean_squared_error(y_test_actual[:, i], y_pred[:, i]))\n",
    "    print(f\"RMSE t+{i+1}: {rmse:.2f}\")"
   ]
  },
  {
   "cell_type": "code",
   "execution_count": null,
   "id": "56288f3e-f444-4f87-867c-a51e226493b5",
   "metadata": {},
   "outputs": [],
   "source": [
    "#Visualize the final result\n",
    "\n",
    "#for one product df\n",
    "plt.figure(figsize=(12,5))\n",
    "plt.plot(test_target.index, test_target, label=\"Actual\")\n",
    "plt.plot(test_target.index, forecast_mean, label=\"Forecast\")\n",
    "plt.fill_between(test_target.index, forecast_ci.iloc[:,0], forecast_ci.iloc[:,1], color='pink', alpha=0.3)\n",
    "plt.legend()\n",
    "plt.show()\n",
    "\n",
    "#for converted one product df\n",
    "# Plot\n",
    "plt.figure(figsize=(12,5))\n",
    "plt.plot(test_endog.index, test_endog.values, linestyle='--', label='Actual')\n",
    "plt.plot(test_endog.index, y_pred.values, label='SARIMAX Predicted')\n",
    "plt.legend()\n",
    "plt.show()"
   ]
  }
 ],
 "metadata": {
  "kernelspec": {
   "display_name": "Python [conda env:DeepLearning1]",
   "language": "python",
   "name": "conda-env-DeepLearning1-py"
  },
  "language_info": {
   "codemirror_mode": {
    "name": "ipython",
    "version": 3
   },
   "file_extension": ".py",
   "mimetype": "text/x-python",
   "name": "python",
   "nbconvert_exporter": "python",
   "pygments_lexer": "ipython3",
   "version": "3.12.11"
  }
 },
 "nbformat": 4,
 "nbformat_minor": 5
}
